{
 "cells": [
  {
   "cell_type": "code",
   "execution_count": 1,
   "id": "3fa0d5cd",
   "metadata": {},
   "outputs": [],
   "source": [
    "import os\n",
    "import splitfolders\n",
    "from tensorflow.keras.preprocessing.image import ImageDataGenerator\n",
    "from PIL import Image\n",
    "from tensorflow.keras.models import Model\n",
    "import scipy\n",
    "import cv2\n",
    "import numpy as np\n",
    "import tensorflow as tf\n",
    "import tensorflow_probability as tfp\n",
    "from tensorflow.keras.optimizers import Adam\n",
    "from tensorflow.keras.models import Sequential\n",
    "from tensorflow.keras.layers import Dense, Conv2D, MaxPooling2D, Flatten, Dropout\n",
    "from sklearn.metrics import confusion_matrix\n",
    "from tensorflow.keras.models import load_model\n",
    "import seaborn as sns\n",
    "from tensorflow.keras.utils import to_categorical\n",
    "from matplotlib.patches import Rectangle\n",
    "from skimage.feature.peak import peak_local_max\n",
    "import random "
   ]
  },
  {
   "cell_type": "code",
   "execution_count": 2,
   "id": "2a9c052f",
   "metadata": {},
   "outputs": [
    {
     "name": "stderr",
     "output_type": "stream",
     "text": [
      "Copying files: 7324 files [00:11, 633.77 files/s]\n"
     ]
    }
   ],
   "source": [
    "input_dir = os.path.join('C:/Users/lydia/Documents/GitHub/Stroke_Daignosis_Detection/Dataset/')\n",
    "output_dir = os.path.join('C:/Users/lydia/Documents/GitHub/Stroke_Daignosis_Detection/Dataset2/')\n",
    "\n",
    "splitfolders.ratio(input_dir, output=output_dir, seed=1337, ratio=(.8,.2))"
   ]
  },
  {
   "cell_type": "code",
   "execution_count": 3,
   "id": "630c572e",
   "metadata": {},
   "outputs": [],
   "source": [
    "train_dir = os.path.join('C:/Users/lydia/Documents/GitHub/Stroke_Daignosis_Detection/Dataset2/train/')\n",
    "val_dir = os.path.join('C:/Users/lydia/Documents/GitHub/Stroke_Daignosis_Detection/Dataset2/val/')"
   ]
  },
  {
   "cell_type": "code",
   "execution_count": 4,
   "id": "e68db13f",
   "metadata": {},
   "outputs": [],
   "source": [
    "def image_generator(train_parent_directory, val_parent_directory):\n",
    "    train_datagen = ImageDataGenerator(rescale=1/255)\n",
    "    val_datagen = ImageDataGenerator(rescale=1/255)\n",
    "    \n",
    "    train_generator = train_datagen.flow_from_directory(train_parent_directory,\n",
    "                                                       target_size=(224,224),\n",
    "                                                        batch_size=140,\n",
    "                                                        class_mode='categorical',\n",
    "                                                        subset='training')\n",
    "    \n",
    "    val_generator = val_datagen.flow_from_directory(val_parent_directory,\n",
    "                                                     target_size=(224,224),\n",
    "                                                      batch_size=37,\n",
    "                                                      class_mode='categorical')\n",
    "    \n",
    "    return train_generator, val_generator"
   ]
  },
  {
   "cell_type": "code",
   "execution_count": 5,
   "id": "9f8fec33",
   "metadata": {},
   "outputs": [
    {
     "name": "stdout",
     "output_type": "stream",
     "text": [
      "Found 5859 images belonging to 2 classes.\n",
      "Found 1465 images belonging to 2 classes.\n"
     ]
    }
   ],
   "source": [
    "train_generator, val_generator = image_generator(train_dir, val_dir)"
   ]
  },
  {
   "cell_type": "code",
   "execution_count": 6,
   "id": "ed422d9d",
   "metadata": {},
   "outputs": [],
   "source": [
    "tfd = tfp.distributions\n",
    "tfpl = tfp.layers"
   ]
  },
  {
   "cell_type": "code",
   "execution_count": 7,
   "id": "f106eb84",
   "metadata": {
    "scrolled": true
   },
   "outputs": [],
   "source": [
    "def create_bayesian_model(input_shape=(224, 224, 3), num_classes=2, divergence_fn=None):\n",
    "    if divergence_fn is None:\n",
    "        def divergence_fn(q, p, _):\n",
    "            return tfp.distributions.kl_divergence(q, p) / 8569\n",
    "\n",
    "    model = Sequential([\n",
    "        tfpl.Convolution2DReparameterization(\n",
    "            input_shape=input_shape, \n",
    "            filters=4, \n",
    "            kernel_size=8, \n",
    "            activation='relu',\n",
    "            kernel_prior_fn=tfpl.default_multivariate_normal_fn,\n",
    "            kernel_posterior_fn=tfpl.default_mean_field_normal_fn(is_singular=False),\n",
    "            kernel_divergence_fn=divergence_fn,\n",
    "            bias_prior_fn=tfpl.default_multivariate_normal_fn,\n",
    "            bias_posterior_fn=tfpl.default_mean_field_normal_fn(is_singular=False),\n",
    "            bias_divergence_fn=divergence_fn\n",
    "        ),\n",
    "        MaxPooling2D(2, 2),\n",
    "        Conv2D(32, (3, 3), activation='relu'),\n",
    "        MaxPooling2D(2, 2),\n",
    "        Conv2D(64, (3, 3), activation='relu'),\n",
    "        MaxPooling2D(2, 2),\n",
    "        Conv2D(64, (3, 3), activation='relu'),\n",
    "        MaxPooling2D(2, 2),\n",
    "        Flatten(),\n",
    "        Dense(512, activation='relu'),\n",
    "        Dropout(0.2),\n",
    "        tfpl.DenseReparameterization(\n",
    "            units=tfpl.OneHotCategorical.params_size(num_classes), \n",
    "            activation=None,\n",
    "            kernel_prior_fn=tfpl.default_multivariate_normal_fn,\n",
    "            kernel_posterior_fn=tfpl.default_mean_field_normal_fn(is_singular=False),\n",
    "            kernel_divergence_fn=divergence_fn,\n",
    "            bias_prior_fn=tfpl.default_multivariate_normal_fn,\n",
    "            bias_posterior_fn=tfpl.default_mean_field_normal_fn(is_singular=False),\n",
    "            bias_divergence_fn=divergence_fn\n",
    "        ),\n",
    "        tfpl.OneHotCategorical(num_classes)\n",
    "    ])\n",
    "\n",
    "    return model"
   ]
  },
  {
   "cell_type": "code",
   "execution_count": 8,
   "id": "3880907c",
   "metadata": {},
   "outputs": [
    {
     "name": "stderr",
     "output_type": "stream",
     "text": [
      "D:\\Anaconda\\lib\\site-packages\\tensorflow_probability\\python\\layers\\util.py:95: UserWarning: `layer.add_variable` is deprecated and will be removed in a future version. Please use the `layer.add_weight()` method instead.\n",
      "  loc = add_variable_fn(\n",
      "D:\\Anaconda\\lib\\site-packages\\tensorflow_probability\\python\\layers\\util.py:105: UserWarning: `layer.add_variable` is deprecated and will be removed in a future version. Please use the `layer.add_weight()` method instead.\n",
      "  untransformed_scale = add_variable_fn(\n"
     ]
    }
   ],
   "source": [
    "model_bayes = create_bayesian_model(input_shape=(224, 224, 3), num_classes=2)"
   ]
  },
  {
   "cell_type": "code",
   "execution_count": 9,
   "id": "d2f06b2b",
   "metadata": {},
   "outputs": [
    {
     "name": "stdout",
     "output_type": "stream",
     "text": [
      "Model: \"sequential\"\n",
      "_________________________________________________________________\n",
      " Layer (type)                Output Shape              Param #   \n",
      "=================================================================\n",
      " conv2d_reparameterization (  (None, 217, 217, 4)      1544      \n",
      " Conv2DReparameterization)                                       \n",
      "                                                                 \n",
      " max_pooling2d (MaxPooling2D  (None, 108, 108, 4)      0         \n",
      " )                                                               \n",
      "                                                                 \n",
      " conv2d (Conv2D)             (None, 106, 106, 32)      1184      \n",
      "                                                                 \n",
      " max_pooling2d_1 (MaxPooling  (None, 53, 53, 32)       0         \n",
      " 2D)                                                             \n",
      "                                                                 \n",
      " conv2d_1 (Conv2D)           (None, 51, 51, 64)        18496     \n",
      "                                                                 \n",
      " max_pooling2d_2 (MaxPooling  (None, 25, 25, 64)       0         \n",
      " 2D)                                                             \n",
      "                                                                 \n",
      " conv2d_2 (Conv2D)           (None, 23, 23, 64)        36928     \n",
      "                                                                 \n",
      " max_pooling2d_3 (MaxPooling  (None, 11, 11, 64)       0         \n",
      " 2D)                                                             \n",
      "                                                                 \n",
      " flatten (Flatten)           (None, 7744)              0         \n",
      "                                                                 \n",
      " dense (Dense)               (None, 512)               3965440   \n",
      "                                                                 \n",
      " dropout (Dropout)           (None, 512)               0         \n",
      "                                                                 \n",
      " dense_reparameterization (D  (None, 2)                2052      \n",
      " enseReparameterization)                                         \n",
      "                                                                 \n",
      " one_hot_categorical (OneHot  ((None, 2),              0         \n",
      " Categorical)                 (None, 2))                         \n",
      "                                                                 \n",
      "=================================================================\n",
      "Total params: 4,025,644\n",
      "Trainable params: 4,025,644\n",
      "Non-trainable params: 0\n",
      "_________________________________________________________________\n"
     ]
    }
   ],
   "source": [
    "model_bayes.summary()"
   ]
  },
  {
   "cell_type": "code",
   "execution_count": 10,
   "id": "3502b22f",
   "metadata": {},
   "outputs": [],
   "source": [
    "def negative_log_likelihood(y_true, y_pred):\n",
    "    return -y_pred.log_prob(y_true)\n",
    "\n",
    "model_bayes.compile(loss = negative_log_likelihood,\n",
    "              optimizer = Adam(learning_rate=0.0001),\n",
    "              metrics = ['accuracy'],\n",
    "              experimental_run_tf_function = False)"
   ]
  },
  {
   "cell_type": "code",
   "execution_count": 11,
   "id": "5fe2a425",
   "metadata": {},
   "outputs": [
    {
     "name": "stdout",
     "output_type": "stream",
     "text": [
      "Epoch 1/100\n",
      "42/42 [==============================] - 144s 3s/step - loss: 1.2033 - accuracy: 0.5458 - val_loss: 1.1249 - val_accuracy: 0.5652\n",
      "Epoch 2/100\n",
      "42/42 [==============================] - 135s 3s/step - loss: 1.0557 - accuracy: 0.6228 - val_loss: 1.0083 - val_accuracy: 0.6997\n",
      "Epoch 3/100\n",
      "42/42 [==============================] - 135s 3s/step - loss: 0.9523 - accuracy: 0.7105 - val_loss: 0.9027 - val_accuracy: 0.7379\n",
      "Epoch 4/100\n",
      "42/42 [==============================] - 136s 3s/step - loss: 0.8716 - accuracy: 0.7674 - val_loss: 0.8213 - val_accuracy: 0.7829\n",
      "Epoch 5/100\n",
      "42/42 [==============================] - 135s 3s/step - loss: 0.7867 - accuracy: 0.8153 - val_loss: 0.7868 - val_accuracy: 0.8184\n",
      "Epoch 6/100\n",
      "42/42 [==============================] - 135s 3s/step - loss: 0.7479 - accuracy: 0.8539 - val_loss: 0.6921 - val_accuracy: 0.8676\n",
      "Epoch 7/100\n",
      "42/42 [==============================] - 135s 3s/step - loss: 0.6663 - accuracy: 0.8976 - val_loss: 0.6510 - val_accuracy: 0.9065\n",
      "Epoch 8/100\n",
      "42/42 [==============================] - 135s 3s/step - loss: 0.6367 - accuracy: 0.9242 - val_loss: 0.6229 - val_accuracy: 0.9229\n",
      "Epoch 9/100\n",
      "42/42 [==============================] - 135s 3s/step - loss: 0.6246 - accuracy: 0.9307 - val_loss: 0.5977 - val_accuracy: 0.9420\n",
      "Epoch 10/100\n",
      "42/42 [==============================] - 135s 3s/step - loss: 0.5838 - accuracy: 0.9549 - val_loss: 0.5977 - val_accuracy: 0.9502\n",
      "Epoch 11/100\n",
      "42/42 [==============================] - 135s 3s/step - loss: 0.5674 - accuracy: 0.9689 - val_loss: 0.5621 - val_accuracy: 0.9768\n",
      "Epoch 12/100\n",
      "42/42 [==============================] - 135s 3s/step - loss: 0.5589 - accuracy: 0.9780 - val_loss: 0.5538 - val_accuracy: 0.9802\n",
      "Epoch 13/100\n",
      "42/42 [==============================] - 135s 3s/step - loss: 0.5499 - accuracy: 0.9829 - val_loss: 0.5753 - val_accuracy: 0.9604\n",
      "Epoch 14/100\n",
      "42/42 [==============================] - 135s 3s/step - loss: 0.5440 - accuracy: 0.9858 - val_loss: 0.5506 - val_accuracy: 0.9843\n",
      "Epoch 15/100\n",
      "42/42 [==============================] - 135s 3s/step - loss: 0.5409 - accuracy: 0.9904 - val_loss: 0.5490 - val_accuracy: 0.9898\n",
      "Epoch 16/100\n",
      "42/42 [==============================] - 135s 3s/step - loss: 0.5366 - accuracy: 0.9910 - val_loss: 0.5438 - val_accuracy: 0.9945\n",
      "Epoch 17/100\n",
      "42/42 [==============================] - 135s 3s/step - loss: 0.5336 - accuracy: 0.9940 - val_loss: 0.5457 - val_accuracy: 0.9904\n",
      "Epoch 18/100\n",
      "42/42 [==============================] - 135s 3s/step - loss: 0.5306 - accuracy: 0.9971 - val_loss: 0.5433 - val_accuracy: 0.9925\n",
      "Epoch 19/100\n",
      "42/42 [==============================] - 135s 3s/step - loss: 0.5309 - accuracy: 0.9952 - val_loss: 0.5411 - val_accuracy: 0.9945\n",
      "Epoch 20/100\n",
      "42/42 [==============================] - 135s 3s/step - loss: 0.5294 - accuracy: 0.9978 - val_loss: 0.5386 - val_accuracy: 0.9945\n",
      "Epoch 21/100\n",
      "42/42 [==============================] - 135s 3s/step - loss: 0.5301 - accuracy: 0.9966 - val_loss: 0.5431 - val_accuracy: 0.9925\n",
      "Epoch 22/100\n",
      "42/42 [==============================] - 135s 3s/step - loss: 0.5284 - accuracy: 0.9969 - val_loss: 0.5438 - val_accuracy: 0.9939\n",
      "Epoch 23/100\n",
      "42/42 [==============================] - 135s 3s/step - loss: 0.5275 - accuracy: 0.9978 - val_loss: 0.5387 - val_accuracy: 0.9939\n",
      "Epoch 24/100\n",
      "42/42 [==============================] - 135s 3s/step - loss: 0.5265 - accuracy: 0.9980 - val_loss: 0.5397 - val_accuracy: 0.9959\n",
      "Epoch 25/100\n",
      "42/42 [==============================] - 135s 3s/step - loss: 0.5271 - accuracy: 0.9969 - val_loss: 0.5456 - val_accuracy: 0.9932\n",
      "Epoch 26/100\n",
      "42/42 [==============================] - 135s 3s/step - loss: 0.5263 - accuracy: 0.9978 - val_loss: 0.5413 - val_accuracy: 0.9945\n",
      "Epoch 27/100\n",
      "42/42 [==============================] - 135s 3s/step - loss: 0.5257 - accuracy: 0.9974 - val_loss: 0.5367 - val_accuracy: 0.9959\n",
      "Epoch 28/100\n",
      "42/42 [==============================] - 135s 3s/step - loss: 0.5252 - accuracy: 0.9983 - val_loss: 0.5392 - val_accuracy: 0.9932\n",
      "Epoch 29/100\n",
      "42/42 [==============================] - 135s 3s/step - loss: 0.5241 - accuracy: 0.9990 - val_loss: 0.5369 - val_accuracy: 0.9952\n",
      "Epoch 30/100\n",
      "42/42 [==============================] - 135s 3s/step - loss: 0.5237 - accuracy: 0.9990 - val_loss: 0.5411 - val_accuracy: 0.9959\n",
      "Epoch 31/100\n",
      "42/42 [==============================] - 135s 3s/step - loss: 0.5233 - accuracy: 0.9985 - val_loss: 0.5368 - val_accuracy: 0.9952\n",
      "Epoch 32/100\n",
      "42/42 [==============================] - 135s 3s/step - loss: 0.5229 - accuracy: 0.9995 - val_loss: 0.5394 - val_accuracy: 0.9966\n",
      "Epoch 33/100\n",
      "42/42 [==============================] - 135s 3s/step - loss: 0.5228 - accuracy: 0.9985 - val_loss: 0.5367 - val_accuracy: 0.9952\n",
      "Epoch 34/100\n",
      "42/42 [==============================] - 135s 3s/step - loss: 0.5229 - accuracy: 0.9993 - val_loss: 0.5424 - val_accuracy: 0.9945\n",
      "Epoch 35/100\n",
      "42/42 [==============================] - 135s 3s/step - loss: 0.5222 - accuracy: 0.9991 - val_loss: 0.5399 - val_accuracy: 0.9952\n",
      "Epoch 36/100\n",
      "42/42 [==============================] - 135s 3s/step - loss: 0.5215 - accuracy: 0.9995 - val_loss: 0.5414 - val_accuracy: 0.9959\n",
      "Epoch 37/100\n",
      "42/42 [==============================] - 135s 3s/step - loss: 0.5207 - accuracy: 0.9997 - val_loss: 0.5404 - val_accuracy: 0.9959\n",
      "Epoch 38/100\n",
      "42/42 [==============================] - 135s 3s/step - loss: 0.5204 - accuracy: 0.9993 - val_loss: 0.5413 - val_accuracy: 0.9959\n",
      "Epoch 39/100\n",
      "42/42 [==============================] - 135s 3s/step - loss: 0.5199 - accuracy: 0.9993 - val_loss: 0.5406 - val_accuracy: 0.9939\n",
      "Epoch 40/100\n",
      "42/42 [==============================] - 135s 3s/step - loss: 0.5193 - accuracy: 0.9998 - val_loss: 0.5405 - val_accuracy: 0.9966\n",
      "Epoch 41/100\n",
      "42/42 [==============================] - 135s 3s/step - loss: 0.5189 - accuracy: 0.9998 - val_loss: 0.5394 - val_accuracy: 0.9966\n",
      "Epoch 42/100\n",
      "42/42 [==============================] - 135s 3s/step - loss: 0.5184 - accuracy: 0.9998 - val_loss: 0.5354 - val_accuracy: 0.9966\n",
      "Epoch 43/100\n",
      "42/42 [==============================] - 135s 3s/step - loss: 0.5179 - accuracy: 0.9995 - val_loss: 0.5370 - val_accuracy: 0.9959\n",
      "Epoch 44/100\n",
      "42/42 [==============================] - 135s 3s/step - loss: 0.5176 - accuracy: 1.0000 - val_loss: 0.5352 - val_accuracy: 0.9959\n",
      "Epoch 45/100\n",
      "42/42 [==============================] - 134s 3s/step - loss: 0.5170 - accuracy: 0.9998 - val_loss: 0.5301 - val_accuracy: 0.9973\n",
      "Epoch 46/100\n",
      "42/42 [==============================] - 136s 3s/step - loss: 0.5166 - accuracy: 0.9998 - val_loss: 0.5315 - val_accuracy: 0.9973\n",
      "Epoch 47/100\n",
      "42/42 [==============================] - 135s 3s/step - loss: 0.5182 - accuracy: 0.9983 - val_loss: 0.5394 - val_accuracy: 0.9959\n",
      "Epoch 48/100\n",
      "42/42 [==============================] - 135s 3s/step - loss: 0.5767 - accuracy: 0.9674 - val_loss: 0.5448 - val_accuracy: 0.9809\n",
      "Epoch 49/100\n",
      "42/42 [==============================] - 135s 3s/step - loss: 0.5454 - accuracy: 0.9824 - val_loss: 0.5355 - val_accuracy: 0.9884\n",
      "Epoch 50/100\n",
      "42/42 [==============================] - 135s 3s/step - loss: 0.5203 - accuracy: 0.9957 - val_loss: 0.5234 - val_accuracy: 0.9966\n",
      "Epoch 51/100\n",
      "42/42 [==============================] - 135s 3s/step - loss: 0.5189 - accuracy: 0.9968 - val_loss: 0.5227 - val_accuracy: 0.9966\n",
      "Epoch 52/100\n",
      "42/42 [==============================] - 135s 3s/step - loss: 0.5153 - accuracy: 0.9990 - val_loss: 0.5237 - val_accuracy: 0.9952\n",
      "Epoch 53/100\n",
      "42/42 [==============================] - 135s 3s/step - loss: 0.5148 - accuracy: 0.9990 - val_loss: 0.5259 - val_accuracy: 0.9959\n",
      "Epoch 54/100\n",
      "42/42 [==============================] - 135s 3s/step - loss: 0.5142 - accuracy: 0.9983 - val_loss: 0.5290 - val_accuracy: 0.9966\n",
      "Epoch 55/100\n",
      "42/42 [==============================] - 135s 3s/step - loss: 0.5132 - accuracy: 0.9993 - val_loss: 0.5278 - val_accuracy: 0.9959\n",
      "Epoch 56/100\n",
      "42/42 [==============================] - 135s 3s/step - loss: 0.5126 - accuracy: 1.0000 - val_loss: 0.5226 - val_accuracy: 0.9973\n",
      "Epoch 57/100\n",
      "42/42 [==============================] - 135s 3s/step - loss: 0.5122 - accuracy: 0.9995 - val_loss: 0.5275 - val_accuracy: 0.9966\n",
      "Epoch 58/100\n"
     ]
    },
    {
     "name": "stdout",
     "output_type": "stream",
     "text": [
      "42/42 [==============================] - 135s 3s/step - loss: 0.5117 - accuracy: 0.9997 - val_loss: 0.5232 - val_accuracy: 0.9966\n",
      "Epoch 59/100\n",
      "42/42 [==============================] - 135s 3s/step - loss: 0.5111 - accuracy: 0.9993 - val_loss: 0.5209 - val_accuracy: 0.9973\n",
      "Epoch 60/100\n",
      "42/42 [==============================] - 135s 3s/step - loss: 0.5107 - accuracy: 0.9995 - val_loss: 0.5225 - val_accuracy: 0.9952\n",
      "Epoch 61/100\n",
      "42/42 [==============================] - 135s 3s/step - loss: 0.5102 - accuracy: 0.9993 - val_loss: 0.5242 - val_accuracy: 0.9959\n",
      "Epoch 62/100\n",
      "42/42 [==============================] - 135s 3s/step - loss: 0.5099 - accuracy: 0.9997 - val_loss: 0.5199 - val_accuracy: 0.9973\n",
      "Epoch 63/100\n",
      "42/42 [==============================] - 135s 3s/step - loss: 0.5092 - accuracy: 0.9998 - val_loss: 0.5182 - val_accuracy: 0.9966\n",
      "Epoch 64/100\n",
      "42/42 [==============================] - 136s 3s/step - loss: 0.5088 - accuracy: 0.9995 - val_loss: 0.5227 - val_accuracy: 0.9966\n",
      "Epoch 65/100\n",
      "42/42 [==============================] - 135s 3s/step - loss: 0.5082 - accuracy: 0.9995 - val_loss: 0.5163 - val_accuracy: 0.9973\n",
      "Epoch 66/100\n",
      "42/42 [==============================] - 136s 3s/step - loss: 0.5077 - accuracy: 1.0000 - val_loss: 0.5199 - val_accuracy: 0.9973\n",
      "Epoch 67/100\n",
      "42/42 [==============================] - 135s 3s/step - loss: 0.5071 - accuracy: 1.0000 - val_loss: 0.5220 - val_accuracy: 0.9973\n",
      "Epoch 68/100\n",
      "42/42 [==============================] - 136s 3s/step - loss: 0.5067 - accuracy: 0.9998 - val_loss: 0.5219 - val_accuracy: 0.9973\n",
      "Epoch 69/100\n",
      "42/42 [==============================] - 135s 3s/step - loss: 0.5062 - accuracy: 0.9995 - val_loss: 0.5193 - val_accuracy: 0.9966\n",
      "Epoch 70/100\n",
      "42/42 [==============================] - 135s 3s/step - loss: 0.5057 - accuracy: 0.9997 - val_loss: 0.5176 - val_accuracy: 0.9966\n",
      "Epoch 71/100\n",
      "42/42 [==============================] - 135s 3s/step - loss: 0.5051 - accuracy: 0.9998 - val_loss: 0.5184 - val_accuracy: 0.9966\n",
      "Epoch 72/100\n",
      "42/42 [==============================] - 135s 3s/step - loss: 0.5047 - accuracy: 0.9998 - val_loss: 0.5191 - val_accuracy: 0.9966\n",
      "Epoch 73/100\n",
      "42/42 [==============================] - 136s 3s/step - loss: 0.5041 - accuracy: 0.9997 - val_loss: 0.5241 - val_accuracy: 0.9966\n",
      "Epoch 74/100\n",
      "42/42 [==============================] - 135s 3s/step - loss: 0.5037 - accuracy: 0.9997 - val_loss: 0.5192 - val_accuracy: 0.9959\n",
      "Epoch 75/100\n",
      "42/42 [==============================] - 135s 3s/step - loss: 0.5030 - accuracy: 1.0000 - val_loss: 0.5222 - val_accuracy: 0.9966\n",
      "Epoch 76/100\n",
      "42/42 [==============================] - 135s 3s/step - loss: 0.5026 - accuracy: 0.9997 - val_loss: 0.5151 - val_accuracy: 0.9973\n",
      "Epoch 77/100\n",
      "42/42 [==============================] - 136s 3s/step - loss: 0.5020 - accuracy: 0.9997 - val_loss: 0.5156 - val_accuracy: 0.9973\n",
      "Epoch 78/100\n",
      "42/42 [==============================] - 136s 3s/step - loss: 0.5014 - accuracy: 0.9997 - val_loss: 0.5148 - val_accuracy: 0.9973\n",
      "Epoch 79/100\n",
      "42/42 [==============================] - 137s 3s/step - loss: 0.5008 - accuracy: 1.0000 - val_loss: 0.5141 - val_accuracy: 0.9966\n",
      "Epoch 80/100\n",
      "42/42 [==============================] - 136s 3s/step - loss: 0.5002 - accuracy: 0.9997 - val_loss: 0.5142 - val_accuracy: 0.9973\n",
      "Epoch 81/100\n",
      "42/42 [==============================] - 137s 3s/step - loss: 0.4996 - accuracy: 1.0000 - val_loss: 0.5171 - val_accuracy: 0.9966\n",
      "Epoch 82/100\n",
      "42/42 [==============================] - 135s 3s/step - loss: 0.4991 - accuracy: 1.0000 - val_loss: 0.5141 - val_accuracy: 0.9966\n",
      "Epoch 83/100\n",
      "42/42 [==============================] - 137s 3s/step - loss: 0.4984 - accuracy: 1.0000 - val_loss: 0.5121 - val_accuracy: 0.9973\n",
      "Epoch 84/100\n",
      "42/42 [==============================] - 137s 3s/step - loss: 0.4979 - accuracy: 1.0000 - val_loss: 0.5115 - val_accuracy: 0.9973\n",
      "Epoch 85/100\n",
      "42/42 [==============================] - 137s 3s/step - loss: 0.4974 - accuracy: 0.9995 - val_loss: 0.5114 - val_accuracy: 0.9973\n",
      "Epoch 86/100\n",
      "42/42 [==============================] - 137s 3s/step - loss: 0.4967 - accuracy: 1.0000 - val_loss: 0.5118 - val_accuracy: 0.9966\n",
      "Epoch 87/100\n",
      "42/42 [==============================] - 137s 3s/step - loss: 0.4962 - accuracy: 0.9998 - val_loss: 0.4990 - val_accuracy: 0.9986\n",
      "Epoch 88/100\n",
      "42/42 [==============================] - 137s 3s/step - loss: 0.4955 - accuracy: 0.9997 - val_loss: 0.5075 - val_accuracy: 0.9973\n",
      "Epoch 89/100\n",
      "42/42 [==============================] - 137s 3s/step - loss: 0.4948 - accuracy: 1.0000 - val_loss: 0.5079 - val_accuracy: 0.9973\n",
      "Epoch 90/100\n",
      "42/42 [==============================] - 137s 3s/step - loss: 0.4942 - accuracy: 1.0000 - val_loss: 0.5082 - val_accuracy: 0.9973\n",
      "Epoch 91/100\n",
      "42/42 [==============================] - 137s 3s/step - loss: 0.4936 - accuracy: 1.0000 - val_loss: 0.5088 - val_accuracy: 0.9973\n",
      "Epoch 92/100\n",
      "42/42 [==============================] - 137s 3s/step - loss: 0.4929 - accuracy: 1.0000 - val_loss: 0.5038 - val_accuracy: 0.9973\n",
      "Epoch 93/100\n",
      "42/42 [==============================] - 137s 3s/step - loss: 0.4923 - accuracy: 0.9998 - val_loss: 0.5022 - val_accuracy: 0.9973\n",
      "Epoch 94/100\n",
      "42/42 [==============================] - 137s 3s/step - loss: 0.4917 - accuracy: 1.0000 - val_loss: 0.5034 - val_accuracy: 0.9973\n",
      "Epoch 95/100\n",
      "42/42 [==============================] - 138s 3s/step - loss: 0.4911 - accuracy: 1.0000 - val_loss: 0.5051 - val_accuracy: 0.9973\n",
      "Epoch 96/100\n",
      "42/42 [==============================] - 138s 3s/step - loss: 0.4904 - accuracy: 0.9998 - val_loss: 0.5076 - val_accuracy: 0.9973\n",
      "Epoch 97/100\n",
      "42/42 [==============================] - 140s 3s/step - loss: 0.4898 - accuracy: 1.0000 - val_loss: 0.5047 - val_accuracy: 0.9973\n",
      "Epoch 98/100\n",
      "42/42 [==============================] - 140s 3s/step - loss: 0.4891 - accuracy: 1.0000 - val_loss: 0.5031 - val_accuracy: 0.9959\n",
      "Epoch 99/100\n",
      "42/42 [==============================] - 141s 3s/step - loss: 0.4885 - accuracy: 1.0000 - val_loss: 0.5015 - val_accuracy: 0.9973\n",
      "Epoch 100/100\n",
      "42/42 [==============================] - 140s 3s/step - loss: 0.4877 - accuracy: 1.0000 - val_loss: 0.5007 - val_accuracy: 0.9973\n"
     ]
    }
   ],
   "source": [
    "history_bayes = model_bayes.fit(\n",
    "      train_generator,\n",
    "      validation_data=val_generator,\n",
    "      epochs=100,\n",
    "      verbose=1)"
   ]
  },
  {
   "cell_type": "code",
   "execution_count": 12,
   "id": "a7d053ae",
   "metadata": {},
   "outputs": [
    {
     "name": "stdout",
     "output_type": "stream",
     "text": [
      "42/42 [==============================] - 29s 693ms/step - loss: 0.4874 - accuracy: 1.0000\n",
      "Accuracy of train datasets =  100.0 %\n",
      "40/40 [==============================] - 7s 178ms/step - loss: 0.5019 - accuracy: 0.9966\n",
      "Accuracy of valid datasets =  99.65870380401611 %\n"
     ]
    }
   ],
   "source": [
    "_,train_acc = model_bayes.evaluate(train_generator)\n",
    "print('Accuracy of train datasets = ', (train_acc * 100.0), \"%\")\n",
    "\n",
    "_,valid_acc = model_bayes.evaluate(val_generator)\n",
    "print('Accuracy of valid datasets = ', (valid_acc * 100.0), \"%\")"
   ]
  },
  {
   "cell_type": "code",
   "execution_count": 13,
   "id": "1d64b2b8",
   "metadata": {},
   "outputs": [],
   "source": [
    "size = 224\n",
    "dataset = []\n",
    "label = []\n",
    "\n",
    "pneumothorax_images = os.listdir('Dataset2/test/Stroke/')\n",
    "for i, image_name in enumerate(pneumothorax_images):\n",
    "    image = cv2.imread('Dataset2/test/Stroke/' + image_name)\n",
    "    image = Image.fromarray(image)\n",
    "    image = image.resize((size,size))\n",
    "    dataset.append(np.array(image))\n",
    "    label.append(1)\n",
    "        \n",
    "normal_images = os.listdir('Dataset2/test/Normal/')\n",
    "for i, image_name in enumerate(normal_images):\n",
    "    image = cv2.imread('Dataset2/test/Normal/' + image_name)\n",
    "    image = Image.fromarray(image)\n",
    "    image = image.resize((size,size))\n",
    "    dataset.append(np.array(image))\n",
    "    label.append(0)\n",
    "\n",
    "dataset = np.array(dataset)\n",
    "label = np.array(label)"
   ]
  },
  {
   "cell_type": "code",
   "execution_count": 14,
   "id": "ea4e13cc",
   "metadata": {},
   "outputs": [],
   "source": [
    "X_test = dataset\n",
    "y_test = label"
   ]
  },
  {
   "cell_type": "code",
   "execution_count": 15,
   "id": "9da81cda",
   "metadata": {},
   "outputs": [],
   "source": [
    "X_test = X_test/255.\n",
    "y_test = to_categorical(y_test)"
   ]
  },
  {
   "cell_type": "code",
   "execution_count": 16,
   "id": "7488aafb",
   "metadata": {},
   "outputs": [
    {
     "name": "stdout",
     "output_type": "stream",
     "text": [
      "79/79 [==============================] - 7s 88ms/step\n"
     ]
    },
    {
     "data": {
      "text/plain": [
       "<Axes: >"
      ]
     },
     "execution_count": 16,
     "metadata": {},
     "output_type": "execute_result"
    },
    {
     "data": {
      "image/png": "[encoded data removed]",
      "text/plain": [
       "<Figure size 640x480 with 2 Axes>"
      ]
     },
     "metadata": {},
     "output_type": "display_data"
    }
   ],
   "source": [
    "y_pred = np.argmax(model_bayes.predict(X_test), axis=1)\n",
    "cm = confusion_matrix(np.argmax(y_test, axis=1), y_pred)\n",
    "sns.heatmap(cm, annot=True)"
   ]
  },
  {
   "cell_type": "code",
   "execution_count": 17,
   "id": "5966286f",
   "metadata": {},
   "outputs": [],
   "source": [
    "pneumothorax_images_idx = np.where(y_pred == 1)[0]\n",
    "predicted_as_para = []\n",
    "for i in pneumothorax_images_idx:\n",
    "    pneu_img = X_test[i]\n",
    "    predicted_as_para.append(pneu_img)\n",
    "    \n",
    "predicted_as_para = np.array(predicted_as_para)"
   ]
  },
  {
   "cell_type": "code",
   "execution_count": 18,
   "id": "117939c8",
   "metadata": {},
   "outputs": [],
   "source": [
    "def plot_heatmap(img):\n",
    "    pred = model_bayes.predict(np.expand_dims(img, axis=0))\n",
    "    pred_class = np.argmax(pred)\n",
    "    last_layer_weights = model_bayes.layers[-1].get_weights()[0]\n",
    "    last_layer_weights_for_pred = last_layer_weights[:, pred_class]\n",
    "    last_conv_model = Model(model_bayes.input, model_bayes.get_layer(\"one_hot_categorical\").output)\n",
    "    last_conv_output = last_conv_model.predict(img[np.newaxis,:,:,:])\n",
    "    last_conv_output = np.squeeze(last_conv_output)\n",
    "    \n",
    "    h = int(img.shape[0]/last_conv_output.shape[0])\n",
    "    w = int(img.shape[1]/last_conv_output.shape[1])\n",
    "    upsampled_last_conv_output = scipy.ndimage.zoom(last_conv_output, (h, w, 1), order=1)\n",
    "    \n",
    "    heat_map = np.dot(upsampled_last_conv_output.reshape((img.shape[0]*img.shape[1], 64)), \n",
    "                 last_layer_weights_for_pred).reshape(img.shape[0],img.shape[1])\n",
    "    \n",
    "    heat_map[img[:,:,0] == 0] = 0 \n",
    "     \n",
    "    peak_coords = peak_local_max(heat_map, num_peaks=5, threshold_rel=0.5, min_distance=10) \n",
    "\n",
    "    plt.imshow(img.astype('float32').reshape(img.shape[0],img.shape[1],3))\n",
    "    plt.imshow(heat_map, cmap='jet', alpha=0.30)\n",
    "    for i in range(0,peak_coords.shape[0]):\n",
    "        print(i)\n",
    "        y = peak_coords[i,0]\n",
    "        x = peak_coords[i,1]\n",
    "        plt.gca().add_patch(Rectangle((x-25, y-25), 50,50,linewidth=1,edgecolor='r',facecolor='none'))\n"
   ]
  },
  {
   "cell_type": "code",
   "execution_count": 19,
   "id": "3f694ff7",
   "metadata": {},
   "outputs": [
    {
     "name": "stdout",
     "output_type": "stream",
     "text": [
      "1/1 [==============================] - 0s 41ms/step\n"
     ]
    },
    {
     "ename": "IndexError",
     "evalue": "list index out of range",
     "output_type": "error",
     "traceback": [
      "\u001b[1;31m---------------------------------------------------------------------------\u001b[0m",
      "\u001b[1;31mIndexError\u001b[0m                                Traceback (most recent call last)",
      "Cell \u001b[1;32mIn[19], line 2\u001b[0m\n\u001b[0;32m      1\u001b[0m image \u001b[38;5;241m=\u001b[39m random\u001b[38;5;241m.\u001b[39mrandint(\u001b[38;5;241m0\u001b[39m,predicted_as_para\u001b[38;5;241m.\u001b[39mshape[\u001b[38;5;241m0\u001b[39m]\u001b[38;5;241m-\u001b[39m\u001b[38;5;241m1\u001b[39m)\n\u001b[1;32m----> 2\u001b[0m heat_map \u001b[38;5;241m=\u001b[39m \u001b[43mplot_heatmap\u001b[49m\u001b[43m(\u001b[49m\u001b[43mpredicted_as_para\u001b[49m\u001b[43m[\u001b[49m\u001b[43mimage\u001b[49m\u001b[43m]\u001b[49m\u001b[43m)\u001b[49m\n\u001b[0;32m      4\u001b[0m img \u001b[38;5;241m=\u001b[39m predicted_as_para[image]\n\u001b[0;32m      5\u001b[0m plt\u001b[38;5;241m.\u001b[39mimshow(predicted_as_para[img])\n",
      "Cell \u001b[1;32mIn[18], line 4\u001b[0m, in \u001b[0;36mplot_heatmap\u001b[1;34m(img)\u001b[0m\n\u001b[0;32m      2\u001b[0m pred \u001b[38;5;241m=\u001b[39m model_bayes\u001b[38;5;241m.\u001b[39mpredict(np\u001b[38;5;241m.\u001b[39mexpand_dims(img, axis\u001b[38;5;241m=\u001b[39m\u001b[38;5;241m0\u001b[39m))\n\u001b[0;32m      3\u001b[0m pred_class \u001b[38;5;241m=\u001b[39m np\u001b[38;5;241m.\u001b[39margmax(pred)\n\u001b[1;32m----> 4\u001b[0m last_layer_weights \u001b[38;5;241m=\u001b[39m \u001b[43mmodel_bayes\u001b[49m\u001b[38;5;241;43m.\u001b[39;49m\u001b[43mlayers\u001b[49m\u001b[43m[\u001b[49m\u001b[38;5;241;43m-\u001b[39;49m\u001b[38;5;241;43m1\u001b[39;49m\u001b[43m]\u001b[49m\u001b[38;5;241;43m.\u001b[39;49m\u001b[43mget_weights\u001b[49m\u001b[43m(\u001b[49m\u001b[43m)\u001b[49m\u001b[43m[\u001b[49m\u001b[38;5;241;43m0\u001b[39;49m\u001b[43m]\u001b[49m\n\u001b[0;32m      5\u001b[0m last_layer_weights_for_pred \u001b[38;5;241m=\u001b[39m last_layer_weights[:, pred_class]\n\u001b[0;32m      6\u001b[0m last_conv_model \u001b[38;5;241m=\u001b[39m Model(model_bayes\u001b[38;5;241m.\u001b[39minput, model_bayes\u001b[38;5;241m.\u001b[39mget_layer(\u001b[38;5;124m\"\u001b[39m\u001b[38;5;124mone_hot_categorical\u001b[39m\u001b[38;5;124m\"\u001b[39m)\u001b[38;5;241m.\u001b[39moutput)\n",
      "\u001b[1;31mIndexError\u001b[0m: list index out of range"
     ]
    }
   ],
   "source": [
    "image = random.randint(0,predicted_as_para.shape[0]-1)\n",
    "heat_map = plot_heatmap(predicted_as_para[image])\n",
    "\n",
    "img = predicted_as_para[image]\n",
    "plt.imshow(predicted_as_para[img])"
   ]
  },
  {
   "cell_type": "code",
   "execution_count": 20,
   "id": "5bfaf7e3",
   "metadata": {},
   "outputs": [
    {
     "name": "stderr",
     "output_type": "stream",
     "text": [
      "WARNING:absl:Found untraced functions such as _jit_compiled_convolution_op, _jit_compiled_convolution_op, _jit_compiled_convolution_op, _update_step_xla while saving (showing 4 of 4). These functions will not be directly callable after loading.\n"
     ]
    },
    {
     "name": "stdout",
     "output_type": "stream",
     "text": [
      "INFO:tensorflow:Assets written to: bayesian_model\\assets\n"
     ]
    },
    {
     "name": "stderr",
     "output_type": "stream",
     "text": [
      "INFO:tensorflow:Assets written to: bayesian_model\\assets\n"
     ]
    },
    {
     "name": "stdout",
     "output_type": "stream",
     "text": [
      "Model: \"sequential\"\n",
      "_________________________________________________________________\n",
      " Layer (type)                Output Shape              Param #   \n",
      "=================================================================\n",
      " conv2d_reparameterization (  (None, 217, 217, 4)      1544      \n",
      " Conv2DReparameterization)                                       \n",
      "                                                                 \n",
      " max_pooling2d (MaxPooling2D  (None, 108, 108, 4)      0         \n",
      " )                                                               \n",
      "                                                                 \n",
      " conv2d (Conv2D)             (None, 106, 106, 32)      1184      \n",
      "                                                                 \n",
      " max_pooling2d_1 (MaxPooling  (None, 53, 53, 32)       0         \n",
      " 2D)                                                             \n",
      "                                                                 \n",
      " conv2d_1 (Conv2D)           (None, 51, 51, 64)        18496     \n",
      "                                                                 \n",
      " max_pooling2d_2 (MaxPooling  (None, 25, 25, 64)       0         \n",
      " 2D)                                                             \n",
      "                                                                 \n",
      " conv2d_2 (Conv2D)           (None, 23, 23, 64)        36928     \n",
      "                                                                 \n",
      " max_pooling2d_3 (MaxPooling  (None, 11, 11, 64)       0         \n",
      " 2D)                                                             \n",
      "                                                                 \n",
      " flatten (Flatten)           (None, 7744)              0         \n",
      "                                                                 \n",
      " dense (Dense)               (None, 512)               3965440   \n",
      "                                                                 \n",
      " dropout (Dropout)           (None, 512)               0         \n",
      "                                                                 \n",
      " dense_reparameterization (D  (None, 2)                2052      \n",
      " enseReparameterization)                                         \n",
      "                                                                 \n",
      " one_hot_categorical (OneHot  (None, 2)                0         \n",
      " Categorical)                                                    \n",
      "                                                                 \n",
      "=================================================================\n",
      "Total params: 4,025,644\n",
      "Trainable params: 4,025,644\n",
      "Non-trainable params: 0\n",
      "_________________________________________________________________\n"
     ]
    }
   ],
   "source": [
    "model_bayes.save(\"bayesian_model\")\n",
    "model = tf.saved_model.load(\"bayesian_model\")\n",
    "loaded_model = tf.keras.models.load_model(\"bayesian_model\", compile=False)\n",
    "loaded_model.summary()"
   ]
  },
  {
   "cell_type": "code",
   "execution_count": null,
   "id": "d7854d64",
   "metadata": {},
   "outputs": [],
   "source": []
  }
 ],
 "metadata": {
  "kernelspec": {
   "display_name": "Python 3 (ipykernel)",
   "language": "python",
   "name": "python3"
  },
  "language_info": {
   "codemirror_mode": {
    "name": "ipython",
    "version": 3
   },
   "file_extension": ".py",
   "mimetype": "text/x-python",
   "name": "python",
   "nbconvert_exporter": "python",
   "pygments_lexer": "ipython3",
   "version": "3.10.9"
  }
 },
 "nbformat": 4,
 "nbformat_minor": 5
}
